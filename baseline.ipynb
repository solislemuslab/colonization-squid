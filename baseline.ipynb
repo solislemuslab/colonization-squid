{
  "nbformat": 4,
  "nbformat_minor": 0,
  "metadata": {
    "colab": {
      "name": "baseline.ipynb",
      "provenance": [],
      "collapsed_sections": [],
      "authorship_tag": "ABX9TyOKi058TP3dCTnbb/90Hx/U",
      "include_colab_link": true
    },
    "kernelspec": {
      "name": "python3",
      "display_name": "Python 3"
    }
  },
  "cells": [
    {
      "cell_type": "markdown",
      "metadata": {
        "id": "view-in-github",
        "colab_type": "text"
      },
      "source": [
        "<a href=\"https://colab.research.google.com/github/solislemuslab/colonization-squid/blob/master/baseline.ipynb\" target=\"_parent\"><img src=\"https://colab.research.google.com/assets/colab-badge.svg\" alt=\"Open In Colab\"/></a>"
      ]
    },
    {
      "cell_type": "code",
      "metadata": {
        "colab": {
          "base_uri": "https://localhost:8080/"
        },
        "id": "dyhE6M1zrbI8",
        "outputId": "81eaac23-e550-4a9b-a70a-40f15cea31c7"
      },
      "source": [
        "# !pip install PyDrive\r\n",
        "from google.colab import drive\r\n",
        "drive.mount('/content/gdrive')"
      ],
      "execution_count": null,
      "outputs": [
        {
          "output_type": "stream",
          "text": [
            "Mounted at /content/gdrive\n"
          ],
          "name": "stdout"
        }
      ]
    },
    {
      "cell_type": "code",
      "metadata": {
        "id": "tgmljJtIrm9A"
      },
      "source": [
        "import numpy as np\r\n",
        "import pandas as pd\r\n",
        "import matplotlib.pyplot as plt\r\n",
        "import seaborn as sns\r\n",
        "%matplotlib inline"
      ],
      "execution_count": null,
      "outputs": []
    },
    {
      "cell_type": "code",
      "metadata": {
        "id": "WOBNvgXPrgz3"
      },
      "source": [
        "import sklearn\r\n",
        "from sklearn.model_selection import train_test_split\r\n",
        "# from sklearn.preprocessing import LabelEncoder\r\n",
        "from sklearn.dummy import DummyClassifier\r\n",
        "from sklearn.metrics import accuracy_score, f1_score, confusion_matrix, classification_report"
      ],
      "execution_count": null,
      "outputs": []
    },
    {
      "cell_type": "code",
      "metadata": {
        "colab": {
          "base_uri": "https://localhost:8080/"
        },
        "id": "SqYm9Sm3rraa",
        "outputId": "dd03e491-eef2-4a57-9cf3-e654197b4965"
      },
      "source": [
        "data_path = '/content/gdrive/My Drive/squid/'\r\n",
        "squid = pd.read_excel(data_path+'Dataset-S1.xlsx')\r\n",
        "squid.shape"
      ],
      "execution_count": null,
      "outputs": [
        {
          "output_type": "execute_result",
          "data": {
            "text/plain": [
              "(3983, 31)"
            ]
          },
          "metadata": {
            "tags": []
          },
          "execution_count": 4
        }
      ]
    },
    {
      "cell_type": "code",
      "metadata": {
        "id": "HcVgiicJeIj3"
      },
      "source": [
        "SEED = 100\r\n",
        "categories = [1,2,3,4,5,6]"
      ],
      "execution_count": null,
      "outputs": []
    },
    {
      "cell_type": "code",
      "metadata": {
        "id": "QVdY8A2ivNfm",
        "colab": {
          "base_uri": "https://localhost:8080/"
        },
        "outputId": "5cf16a29-e485-4f03-bb08-8a683cbd7e87"
      },
      "source": [
        "X, Y = squid.drop(['Category'], axis=1), squid.Category\r\n",
        "xtrain_full, xtest, ytrain_full, ytest = \\\r\n",
        "  train_test_split(X, Y, test_size=0.2, random_state=SEED, stratify=Y)\r\n",
        "xtrain, xval, ytrain, yval = \\\r\n",
        "  train_test_split(xtrain_full, ytrain_full, test_size=0.15, random_state=SEED, stratify=ytrain_full)\r\n",
        "print(f'Shape: Training {xtrain.shape[0]}, Validation {xval.shape[0]}, Test {xtest.shape[0]}')"
      ],
      "execution_count": null,
      "outputs": [
        {
          "output_type": "stream",
          "text": [
            "Shape: Training 2708, Validation 478, Test 797\n"
          ],
          "name": "stdout"
        }
      ]
    },
    {
      "cell_type": "code",
      "metadata": {
        "id": "brxLPgEOgYXi"
      },
      "source": [
        "def getMetrics(label, pred):\r\n",
        "  acc = accuracy_score(label, pred)\r\n",
        "  # recall = recall_score(label, pred)\r\n",
        "  f1 = f1_score(label, pred, average=\"weighted\")\r\n",
        "  confusion_mat = pd.DataFrame(confusion_matrix(label, pred), columns=categories, index=categories)\r\n",
        "\r\n",
        "  print(f'Prediction Result:\\nacc:{np.round(acc*100, 3)}%, f1 score:{np.round(f1,4)}.')\r\n",
        "  print(confusion_mat)\r\n",
        "  return acc, f1, confusion_matrix"
      ],
      "execution_count": null,
      "outputs": []
    },
    {
      "cell_type": "code",
      "metadata": {
        "id": "WrE_M-eEg08g"
      },
      "source": [
        ""
      ],
      "execution_count": null,
      "outputs": []
    },
    {
      "cell_type": "markdown",
      "metadata": {
        "id": "wFfszuETvWi-"
      },
      "source": [
        "# Dummy Classifier"
      ]
    },
    {
      "cell_type": "code",
      "metadata": {
        "id": "s75HX4hyuXTa"
      },
      "source": [
        "dummy_clf = DummyClassifier(strategy='most_frequent').fit(xtrain, ytrain)\r\n",
        "dummy_pred_train = dummy_clf.predict(xtrain)\r\n",
        "dummy_pred_val = dummy_clf.predict(xval)\r\n",
        "dummy_pred_test = dummy_clf.predict(xtest)"
      ],
      "execution_count": null,
      "outputs": []
    },
    {
      "cell_type": "code",
      "metadata": {
        "id": "pLEaKoj7uXV4",
        "colab": {
          "base_uri": "https://localhost:8080/"
        },
        "outputId": "d7811752-1c69-49e9-d2db-536ccffb2ee6"
      },
      "source": [
        "_, _, dummy_confusion_train = getMetrics(ytrain, dummy_pred_train)"
      ],
      "execution_count": null,
      "outputs": [
        {
          "output_type": "stream",
          "text": [
            "Prediction Result:\n",
            "acc:48.006%, f1 score:0.3114.\n",
            "   1  2  3  4     5  6\n",
            "1  0  0  0  0   106  0\n",
            "2  0  0  0  0   309  0\n",
            "3  0  0  0  0    78  0\n",
            "4  0  0  0  0   657  0\n",
            "5  0  0  0  0  1300  0\n",
            "6  0  0  0  0   258  0\n"
          ],
          "name": "stdout"
        }
      ]
    },
    {
      "cell_type": "code",
      "metadata": {
        "id": "iv6Ab9yiuXXz",
        "colab": {
          "base_uri": "https://localhost:8080/"
        },
        "outputId": "039cf590-3a8c-45d8-ebff-dafa7fdda843"
      },
      "source": [
        "_, _, dummy_confusion_val = getMetrics(yval, dummy_pred_val)"
      ],
      "execution_count": null,
      "outputs": [
        {
          "output_type": "stream",
          "text": [
            "Prediction Result:\n",
            "acc:47.908%, f1 score:0.3104.\n",
            "   1  2  3  4    5  6\n",
            "1  0  0  0  0   18  0\n",
            "2  0  0  0  0   55  0\n",
            "3  0  0  0  0   14  0\n",
            "4  0  0  0  0  116  0\n",
            "5  0  0  0  0  229  0\n",
            "6  0  0  0  0   46  0\n"
          ],
          "name": "stdout"
        }
      ]
    },
    {
      "cell_type": "code",
      "metadata": {
        "colab": {
          "base_uri": "https://localhost:8080/"
        },
        "id": "3AnCyVBAkKO6",
        "outputId": "699e90ea-6bb0-482c-8277-a327badd692c"
      },
      "source": [
        "_, _, dummy_confusion_test = getMetrics(ytest, dummy_pred_test)"
      ],
      "execution_count": null,
      "outputs": [
        {
          "output_type": "stream",
          "text": [
            "Prediction Result:\n",
            "acc:47.93%, f1 score:0.3106.\n",
            "   1  2  3  4    5  6\n",
            "1  0  0  0  0   31  0\n",
            "2  0  0  0  0   91  0\n",
            "3  0  0  0  0   23  0\n",
            "4  0  0  0  0  194  0\n",
            "5  0  0  0  0  382  0\n",
            "6  0  0  0  0   76  0\n"
          ],
          "name": "stdout"
        }
      ]
    },
    {
      "cell_type": "markdown",
      "metadata": {
        "id": "iY2H9TPNkYb-"
      },
      "source": [
        "# Baseline"
      ]
    },
    {
      "cell_type": "code",
      "metadata": {
        "id": "SRGbiDZ9kKR7"
      },
      "source": [
        "from sklearn.ensemble import RandomForestClassifier"
      ],
      "execution_count": null,
      "outputs": []
    },
    {
      "cell_type": "code",
      "metadata": {
        "id": "p6KZPPNfkgID"
      },
      "source": [
        "drop_list = ['ID','Chromosome','Coordinate','Locus_Tag','Gene','Annotation']\r\n",
        "xtrain_nums = xtrain.drop(drop_list, axis=1)\r\n",
        "xval_nums = xval.drop(drop_list, axis=1)\r\n",
        "xtest_nums = xtest.drop(drop_list, axis=1)"
      ],
      "execution_count": null,
      "outputs": []
    },
    {
      "cell_type": "code",
      "metadata": {
        "id": "FagFILEJkKTu"
      },
      "source": [
        "rf_clf = RandomForestClassifier(random_state=SEED).fit(xtrain_nums, ytrain)\r\n",
        "rf_pred_train = rf_clf.predict(xtrain_nums)\r\n",
        "rf_pred_val = rf_clf.predict(xval_nums)\r\n",
        "rf_pred_test = rf_clf.predict(xtest_nums)"
      ],
      "execution_count": null,
      "outputs": []
    },
    {
      "cell_type": "code",
      "metadata": {
        "colab": {
          "base_uri": "https://localhost:8080/"
        },
        "id": "jWwMK6gApeGp",
        "outputId": "1d4a70a8-c134-4be8-fabd-234d72c774c6"
      },
      "source": [
        "_, _, rf_confusion_train = getMetrics(ytrain, rf_pred_train)"
      ],
      "execution_count": null,
      "outputs": [
        {
          "output_type": "stream",
          "text": [
            "Prediction Result:\n",
            "acc:97.637%, f1 score:0.9779.\n",
            "     1    2   3    4     5    6\n",
            "1  106    0   0    0     0    0\n",
            "2   56  253   0    0     0    0\n",
            "3    0    1  77    0     0    0\n",
            "4    6    1   0  650     0    0\n",
            "5    0    0   0    0  1300    0\n",
            "6    0    0   0    0     0  258\n"
          ],
          "name": "stdout"
        }
      ]
    },
    {
      "cell_type": "code",
      "metadata": {
        "colab": {
          "base_uri": "https://localhost:8080/"
        },
        "id": "IiYff7mxpeJM",
        "outputId": "69df8789-1a8f-4aef-b714-3d574224aed3"
      },
      "source": [
        "_, _, rf_confusion_val = getMetrics(yval, rf_pred_val)"
      ],
      "execution_count": null,
      "outputs": [
        {
          "output_type": "stream",
          "text": [
            "Prediction Result:\n",
            "acc:88.703%, f1 score:0.8849.\n",
            "    1   2   3    4    5   6\n",
            "1  15   1   1    1    0   0\n",
            "2   9  39   4    2    1   0\n",
            "3   0   2  10    2    0   0\n",
            "4   1   2   3  108    1   1\n",
            "5   0   0   0    4  224   1\n",
            "6   0   0   0    3   15  28\n"
          ],
          "name": "stdout"
        }
      ]
    },
    {
      "cell_type": "code",
      "metadata": {
        "colab": {
          "base_uri": "https://localhost:8080/"
        },
        "id": "PEEuUeH9peOu",
        "outputId": "d6b149f6-94c2-4917-c987-ebc017e24eee"
      },
      "source": [
        "_, _, _ = getMetrics(ytest, rf_pred_test)"
      ],
      "execution_count": null,
      "outputs": [
        {
          "output_type": "stream",
          "text": [
            "Prediction Result:\n",
            "acc:91.217%, f1 score:0.9108.\n",
            "    1   2   3    4    5   6\n",
            "1  27   0   1    2    1   0\n",
            "2  11  72   3    3    1   1\n",
            "3   0   5  12    6    0   0\n",
            "4   6   6   1  180    0   1\n",
            "5   0   0   0    2  379   1\n",
            "6   0   0   0    2   17  57\n"
          ],
          "name": "stdout"
        }
      ]
    },
    {
      "cell_type": "code",
      "metadata": {
        "id": "aV1PBuxy08N2"
      },
      "source": [
        "def plot_var_importance(model, features, figsize=(8,6), c='b', title=\"Relative Importance\"):\r\n",
        "  fig, ax = plt.subplots(1,1,figsize=figsize)\r\n",
        "  imp = model.feature_importances_\r\n",
        "  indices = np.argsort(imp)\r\n",
        "  ax.barh([features[i] for i in indices], imp[indices], color=c, align='center')\r\n",
        "  ax.set_yticks(range(len(indices)), [features[i] for i in indices])\r\n",
        "  ax.set_title(title)"
      ],
      "execution_count": null,
      "outputs": []
    },
    {
      "cell_type": "code",
      "metadata": {
        "colab": {
          "base_uri": "https://localhost:8080/",
          "height": 446
        },
        "id": "ymLicVk03Qyf",
        "outputId": "ebad46db-85b1-4ccf-e876-8c8cdaaa9031"
      },
      "source": [
        "plot_var_importance(rf_clf, xtrain_nums.columns, title='baseline RF var importance')"
      ],
      "execution_count": null,
      "outputs": [
        {
          "output_type": "stream",
          "text": [
            "/usr/local/lib/python3.6/dist-packages/ipykernel_launcher.py:6: MatplotlibDeprecationWarning: Passing the minor parameter of set_yticks() positionally is deprecated since Matplotlib 3.2; the parameter will become keyword-only two minor releases later.\n",
            "  \n"
          ],
          "name": "stderr"
        },
        {
          "output_type": "display_data",
          "data": {
            "image/png": "[encoded data removed]",
            "text/plain": [
              "<Figure size 576x432 with 1 Axes>"
            ]
          },
          "metadata": {
            "tags": [],
            "needs_background": "light"
          }
        }
      ]
    },
    {
      "cell_type": "markdown",
      "metadata": {
        "id": "GNa_eQBQ4M-o"
      },
      "source": [
        "# Feature Selection"
      ]
    },
    {
      "cell_type": "code",
      "metadata": {
        "id": "IpubevdE3Q1G"
      },
      "source": [
        "retain_list = ['Input09','LBS01','Squid01_1','Squid02_1','Squid03_1','Squid04_1','Squid05_1','Squid06_1']\r\n",
        "xtrain_min_selected = xtrain[retain_list].copy()\r\n",
        "xval_min_selected = xval[retain_list].copy()\r\n",
        "xtest_min_selected = xtest[retain_list].copy()"
      ],
      "execution_count": null,
      "outputs": []
    },
    {
      "cell_type": "code",
      "metadata": {
        "id": "l0z9OSIf5BEq"
      },
      "source": [
        "rf_min_selected = RandomForestClassifier(random_state=SEED).fit(xtrain_min_selected, ytrain)\r\n",
        "rf_min_selected_pred_train = rf_min_selected.predict(xtrain_min_selected)\r\n",
        "rf_min_selected_pred_val = rf_min_selected.predict(xval_min_selected)\r\n",
        "rf_min_selected_pred_test = rf_min_selected.predict(xtest_min_selected)"
      ],
      "execution_count": null,
      "outputs": []
    },
    {
      "cell_type": "code",
      "metadata": {
        "colab": {
          "base_uri": "https://localhost:8080/"
        },
        "id": "ZeUK-yxR5Ssm",
        "outputId": "3549b165-ea13-47c7-a182-46c542b18274"
      },
      "source": [
        "_, _, rf_min_selected_confusion_train = getMetrics(ytrain, rf_min_selected_pred_train)"
      ],
      "execution_count": null,
      "outputs": [
        {
          "output_type": "stream",
          "text": [
            "Prediction Result:\n",
            "acc:95.495%, f1 score:0.941.\n",
            "   1    2   3    4     5    6\n",
            "1  4  102   0    0     0    0\n",
            "2  0  308   1    0     0    0\n",
            "3  0    9  69    0     0    0\n",
            "4  0   10   0  647     0    0\n",
            "5  0    0   0    0  1300    0\n",
            "6  0    0   0    0     0  258\n"
          ],
          "name": "stdout"
        }
      ]
    },
    {
      "cell_type": "code",
      "metadata": {
        "colab": {
          "base_uri": "https://localhost:8080/"
        },
        "id": "UBrB9dRi5Su9",
        "outputId": "16f3f539-a748-434f-f6e7-655ddf673fa8"
      },
      "source": [
        "_, _, rf_min_selected_confusion_train = getMetrics(yval, rf_min_selected_pred_val)"
      ],
      "execution_count": null,
      "outputs": [
        {
          "output_type": "stream",
          "text": [
            "Prediction Result:\n",
            "acc:87.029%, f1 score:0.8553.\n",
            "   1   2  3    4    5   6\n",
            "1  0  16  1    1    0   0\n",
            "2  0  45  7    2    0   1\n",
            "3  1   2  9    2    0   0\n",
            "4  0   2  2  111    1   0\n",
            "5  0   0  0    6  221   2\n",
            "6  0   0  0    4   12  30\n"
          ],
          "name": "stdout"
        }
      ]
    },
    {
      "cell_type": "code",
      "metadata": {
        "colab": {
          "base_uri": "https://localhost:8080/"
        },
        "id": "ubYwmW_o5Sw2",
        "outputId": "2b0e4b9e-1a4b-4cf3-ab83-1daaaed639d4"
      },
      "source": [
        "_, _, rf_min_selected_confusion_train = getMetrics(ytest, rf_min_selected_pred_test)"
      ],
      "execution_count": null,
      "outputs": [
        {
          "output_type": "stream",
          "text": [
            "Prediction Result:\n",
            "acc:87.829%, f1 score:0.8615.\n",
            "   1   2   3    4    5   6\n",
            "1  0  28   0    2    1   0\n",
            "2  0  79   5    5    1   1\n",
            "3  0   4  10    9    0   0\n",
            "4  0  11   3  178    2   0\n",
            "5  0   0   0    6  375   1\n",
            "6  0   0   0    1   17  58\n"
          ],
          "name": "stdout"
        }
      ]
    },
    {
      "cell_type": "code",
      "metadata": {
        "colab": {
          "base_uri": "https://localhost:8080/",
          "height": 446
        },
        "id": "9_UU1NUj5hdZ",
        "outputId": "f709bce9-c00d-4d44-932b-31a060eaec16"
      },
      "source": [
        "plot_var_importance(rf_min_selected, xtrain_min_selected.columns, title='RF with min variables selected var importance')"
      ],
      "execution_count": null,
      "outputs": [
        {
          "output_type": "stream",
          "text": [
            "/usr/local/lib/python3.6/dist-packages/ipykernel_launcher.py:6: MatplotlibDeprecationWarning: Passing the minor parameter of set_yticks() positionally is deprecated since Matplotlib 3.2; the parameter will become keyword-only two minor releases later.\n",
            "  \n"
          ],
          "name": "stderr"
        },
        {
          "output_type": "display_data",
          "data": {
            "image/png": "[encoded data removed]",
            "text/plain": [
              "<Figure size 576x432 with 1 Axes>"
            ]
          },
          "metadata": {
            "tags": [],
            "needs_background": "light"
          }
        }
      ]
    },
    {
      "cell_type": "code",
      "metadata": {
        "id": "ugjlfSR36m3C"
      },
      "source": [
        "def get_avg(df):\r\n",
        "  df['input_avg'] = df[input_col_list].mean(axis=1)\r\n",
        "  df['lbs_avg'] = df[lbs_col_list].mean(axis=1)\r\n",
        "\r\n",
        "def get_col_list(start=1, stop=11, verbal=False):\r\n",
        "  res = []\r\n",
        "  for i in range(start,stop):\r\n",
        "    s = 'Input' \r\n",
        "    if i < 10:\r\n",
        "      s += '0'\r\n",
        "    s += str(i)\r\n",
        "    res.append(s)\r\n",
        "  if verbal:\r\n",
        "    print(res)\r\n",
        "  return res\r\n",
        "\r\n",
        "input_col_list = get_col_list(verbal=False)\r\n",
        "lbs_col_list = get_col_list(1,2)\r\n",
        "get_avg(xtrain)\r\n",
        "get_avg(xval)\r\n",
        "get_avg(xtest)\r\n",
        "agg_list = ['input_avg','lbs_avg','Squid01_1','Squid02_1','Squid03_1','Squid04_1','Squid05_1','Squid06_1']\r\n",
        "xtrain_input_avg = xtrain[agg_list].copy()\r\n",
        "xval_input_avg = xval[agg_list].copy()\r\n",
        "xtest_input_avg = xtest[agg_list].copy()"
      ],
      "execution_count": null,
      "outputs": []
    },
    {
      "cell_type": "code",
      "metadata": {
        "id": "SVB5b_JI-BGi"
      },
      "source": [
        "rf_input_avg = RandomForestClassifier(random_state=SEED).fit(xtrain_input_avg, ytrain)\r\n",
        "rf_input_avg_pred_train = rf_input_avg.predict(xtrain_input_avg)\r\n",
        "rf_input_avg_pred_val = rf_input_avg.predict(xval_input_avg)\r\n",
        "rf_input_avg_pred_test = rf_input_avg.predict(xtest_input_avg)"
      ],
      "execution_count": null,
      "outputs": []
    },
    {
      "cell_type": "code",
      "metadata": {
        "colab": {
          "base_uri": "https://localhost:8080/"
        },
        "id": "QSkY80cm-BOS",
        "outputId": "67423498-d524-4024-ef83-b9b4f4d1248b"
      },
      "source": [
        "_, _, _ = getMetrics(ytrain, rf_input_avg_pred_train)"
      ],
      "execution_count": null,
      "outputs": [
        {
          "output_type": "stream",
          "text": [
            "Prediction Result:\n",
            "acc:97.046%, f1 score:0.9727.\n",
            "     1    2   3    4     5    6\n",
            "1  106    0   0    0     0    0\n",
            "2   72  237   0    0     0    0\n",
            "3    0    1  77    0     0    0\n",
            "4    7    0   0  650     0    0\n",
            "5    0    0   0    0  1300    0\n",
            "6    0    0   0    0     0  258\n"
          ],
          "name": "stdout"
        }
      ]
    },
    {
      "cell_type": "code",
      "metadata": {
        "colab": {
          "base_uri": "https://localhost:8080/"
        },
        "id": "24vwf2z_-BQm",
        "outputId": "b692b34e-b8c3-4773-dd40-4b6702e99904"
      },
      "source": [
        "_, _, _ = getMetrics(yval, rf_input_avg_pred_val)"
      ],
      "execution_count": null,
      "outputs": [
        {
          "output_type": "stream",
          "text": [
            "Prediction Result:\n",
            "acc:87.657%, f1 score:0.8741.\n",
            "    1   2  3    4    5   6\n",
            "1  15   1  0    1    0   1\n",
            "2  12  36  2    4    0   1\n",
            "3   0   2  6    6    0   0\n",
            "4   2   0  4  109    1   0\n",
            "5   0   0  0    5  223   1\n",
            "6   0   0  0    3   13  30\n"
          ],
          "name": "stdout"
        }
      ]
    },
    {
      "cell_type": "code",
      "metadata": {
        "colab": {
          "base_uri": "https://localhost:8080/"
        },
        "id": "FQ20NGwy-WZ7",
        "outputId": "37f24807-15b9-46d6-b254-c40778176b81"
      },
      "source": [
        "_, _, _ = getMetrics(ytest, rf_input_avg_pred_test)"
      ],
      "execution_count": null,
      "outputs": [
        {
          "output_type": "stream",
          "text": [
            "Prediction Result:\n",
            "acc:88.708%, f1 score:0.8856.\n",
            "    1   2  3    4    5   6\n",
            "1  27   1  1    1    1   0\n",
            "2  19  59  1   10    1   1\n",
            "3   0   4  9   10    0   0\n",
            "4   6   4  6  177    1   0\n",
            "5   0   0  0    6  376   0\n",
            "6   0   0  0    1   16  59\n"
          ],
          "name": "stdout"
        }
      ]
    },
    {
      "cell_type": "code",
      "metadata": {
        "colab": {
          "base_uri": "https://localhost:8080/",
          "height": 446
        },
        "id": "W3vPuM3G-Wcg",
        "outputId": "ec46030a-fef8-4559-8aa5-730a961a87b1"
      },
      "source": [
        "plot_var_importance(rf_input_avg, xtrain_input_avg.columns, title='RF with input averaged var importance')"
      ],
      "execution_count": null,
      "outputs": [
        {
          "output_type": "stream",
          "text": [
            "/usr/local/lib/python3.6/dist-packages/ipykernel_launcher.py:6: MatplotlibDeprecationWarning: Passing the minor parameter of set_yticks() positionally is deprecated since Matplotlib 3.2; the parameter will become keyword-only two minor releases later.\n",
            "  \n"
          ],
          "name": "stderr"
        },
        {
          "output_type": "display_data",
          "data": {
            "image/png": "[encoded data removed]",
            "text/plain": [
              "<Figure size 576x432 with 1 Axes>"
            ]
          },
          "metadata": {
            "tags": [],
            "needs_background": "light"
          }
        }
      ]
    },
    {
      "cell_type": "code",
      "metadata": {
        "id": "Dp5-ZMbl-Wey"
      },
      "source": [
        ""
      ],
      "execution_count": null,
      "outputs": []
    }
  ]
}