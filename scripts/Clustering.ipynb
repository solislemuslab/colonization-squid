{
  "nbformat": 4,
  "nbformat_minor": 0,
  "metadata": {
    "colab": {
      "name": "Clustering.ipynb",
      "provenance": [],
      "collapsed_sections": [],
      "authorship_tag": "ABX9TyMav0NtKUd1GkfJDZoLvVdA",
      "include_colab_link": true
    },
    "kernelspec": {
      "name": "python3",
      "display_name": "Python 3"
    }
  },
  "cells": [
    {
      "cell_type": "markdown",
      "metadata": {
        "id": "view-in-github",
        "colab_type": "text"
      },
      "source": [
        "<a href=\"https://colab.research.google.com/github/solislemuslab/colonization-squid/blob/master/Clustering.ipynb\" target=\"_parent\"><img src=\"https://colab.research.google.com/assets/colab-badge.svg\" alt=\"Open In Colab\"/></a>"
      ]
    },
    {
      "cell_type": "code",
      "metadata": {
        "colab": {
          "base_uri": "https://localhost:8080/"
        },
        "id": "e4MUJrqt_XpU",
        "outputId": "51a16e50-9ad5-42d3-ce4a-f98862d8a31e"
      },
      "source": [
        "# !pip install PyDrive\r\n",
        "from google.colab import drive\r\n",
        "drive.mount('/content/gdrive')"
      ],
      "execution_count": 1,
      "outputs": [
        {
          "output_type": "stream",
          "text": [
            "Mounted at /content/gdrive\n"
          ],
          "name": "stdout"
        }
      ]
    },
    {
      "cell_type": "code",
      "metadata": {
        "id": "pfOF-b9b_grI"
      },
      "source": [
        "import numpy as np\r\n",
        "import pandas as pd\r\n",
        "import matplotlib.pyplot as plt\r\n",
        "import seaborn as sns\r\n",
        "%matplotlib inline"
      ],
      "execution_count": 2,
      "outputs": []
    },
    {
      "cell_type": "code",
      "metadata": {
        "id": "FwJcUZfU_gt2"
      },
      "source": [
        "import sklearn\r\n",
        "from sklearn.model_selection import train_test_split\r\n",
        "from sklearn.metrics import accuracy_score, f1_score, confusion_matrix, classification_report"
      ],
      "execution_count": 3,
      "outputs": []
    },
    {
      "cell_type": "code",
      "metadata": {
        "id": "Okmnr5YF_u7s",
        "colab": {
          "base_uri": "https://localhost:8080/",
          "height": 579
        },
        "outputId": "06a02e27-9bf4-42fd-db07-4a50e118e2a8"
      },
      "source": [
        "! pip install phenograph"
      ],
      "execution_count": 4,
      "outputs": [
        {
          "output_type": "stream",
          "text": [
            "Collecting phenograph\n",
            "\u001b[?25l  Downloading https://files.pythonhosted.org/packages/fc/37/4aa1d8c2ded0c612031d32ad8606b6222243f9326ca28754122e306680be/PhenoGraph-1.5.7-py3-none-any.whl (159kB)\n",
            "\r\u001b[K     |██                              | 10kB 15.1MB/s eta 0:00:01\r\u001b[K     |████                            | 20kB 21.5MB/s eta 0:00:01\r\u001b[K     |██████▏                         | 30kB 15.2MB/s eta 0:00:01\r\u001b[K     |████████▏                       | 40kB 14.9MB/s eta 0:00:01\r\u001b[K     |██████████▎                     | 51kB 16.7MB/s eta 0:00:01\r\u001b[K     |████████████▎                   | 61kB 13.3MB/s eta 0:00:01\r\u001b[K     |██████████████▍                 | 71kB 10.8MB/s eta 0:00:01\r\u001b[K     |████████████████▍               | 81kB 11.3MB/s eta 0:00:01\r\u001b[K     |██████████████████▌             | 92kB 10.9MB/s eta 0:00:01\r\u001b[K     |████████████████████▌           | 102kB 11.6MB/s eta 0:00:01\r\u001b[K     |██████████████████████▋         | 112kB 11.6MB/s eta 0:00:01\r\u001b[K     |████████████████████████▋       | 122kB 11.6MB/s eta 0:00:01\r\u001b[K     |██████████████████████████▊     | 133kB 11.6MB/s eta 0:00:01\r\u001b[K     |████████████████████████████▊   | 143kB 11.6MB/s eta 0:00:01\r\u001b[K     |██████████████████████████████▉ | 153kB 11.6MB/s eta 0:00:01\r\u001b[K     |████████████████████████████████| 163kB 11.6MB/s \n",
            "\u001b[?25hRequirement already satisfied: setuptools>=18.0.1 in /usr/local/lib/python3.7/dist-packages (from phenograph) (54.0.0)\n",
            "Requirement already satisfied: scikit-learn>=0.17 in /usr/local/lib/python3.7/dist-packages (from phenograph) (0.22.2.post1)\n",
            "Requirement already satisfied: psutil>4 in /usr/local/lib/python3.7/dist-packages (from phenograph) (5.4.8)\n",
            "Requirement already satisfied: numpy>=1.12 in /usr/local/lib/python3.7/dist-packages (from phenograph) (1.19.5)\n",
            "Collecting scipy>=1.5.1\n",
            "\u001b[?25l  Downloading https://files.pythonhosted.org/packages/b6/3a/9e0649ab2d5ade703baa70ef980aa08739226e5d6a642f084bb201a92fc2/scipy-1.6.1-cp37-cp37m-manylinux1_x86_64.whl (27.4MB)\n",
            "\u001b[K     |████████████████████████████████| 27.4MB 150kB/s \n",
            "\u001b[?25hCollecting leidenalg>=0.8.2\n",
            "\u001b[?25l  Downloading https://files.pythonhosted.org/packages/70/68/3f7c56da3e7ac576e5e090f2a7e8637f96e4a790688dbee63b938530ef15/leidenalg-0.8.3-cp37-cp37m-manylinux2010_x86_64.whl (2.4MB)\n",
            "\u001b[K     |████████████████████████████████| 2.4MB 50.6MB/s \n",
            "\u001b[?25hRequirement already satisfied: joblib>=0.11 in /usr/local/lib/python3.7/dist-packages (from scikit-learn>=0.17->phenograph) (1.0.1)\n",
            "Collecting python-igraph>=0.8.0\n",
            "\u001b[?25l  Downloading https://files.pythonhosted.org/packages/ed/dd/debbb217cc6e128a7f9e788db36fcdce2c313611bb98cae1a73b65fab8a6/python_igraph-0.9.0-cp37-cp37m-manylinux2010_x86_64.whl (3.1MB)\n",
            "\u001b[K     |████████████████████████████████| 3.1MB 32.3MB/s \n",
            "\u001b[?25hCollecting texttable>=1.6.2\n",
            "  Downloading https://files.pythonhosted.org/packages/06/f5/46201c428aebe0eecfa83df66bf3e6caa29659dbac5a56ddfd83cae0d4a4/texttable-1.6.3-py2.py3-none-any.whl\n",
            "\u001b[31mERROR: albumentations 0.1.12 has requirement imgaug<0.2.7,>=0.2.5, but you'll have imgaug 0.2.9 which is incompatible.\u001b[0m\n",
            "Installing collected packages: scipy, texttable, python-igraph, leidenalg, phenograph\n",
            "  Found existing installation: scipy 1.4.1\n",
            "    Uninstalling scipy-1.4.1:\n",
            "      Successfully uninstalled scipy-1.4.1\n",
            "Successfully installed leidenalg-0.8.3 phenograph-1.5.7 python-igraph-0.9.0 scipy-1.6.1 texttable-1.6.3\n"
          ],
          "name": "stdout"
        },
        {
          "output_type": "display_data",
          "data": {
            "application/vnd.colab-display-data+json": {
              "pip_warning": {
                "packages": [
                  "scipy"
                ]
              }
            }
          },
          "metadata": {
            "tags": []
          }
        }
      ]
    },
    {
      "cell_type": "code",
      "metadata": {
        "id": "d7FxSfWP_gzj"
      },
      "source": [
        "import phenograph\r\n",
        "from sklearn.mixture import GaussianMixture\r\n",
        "from sklearn.cluster import KMeans\r\n",
        "from sklearn.preprocessing import StandardScaler\r\n",
        "from sklearn.metrics import adjusted_rand_score, adjusted_mutual_info_score"
      ],
      "execution_count": 5,
      "outputs": []
    },
    {
      "cell_type": "code",
      "metadata": {
        "colab": {
          "base_uri": "https://localhost:8080/"
        },
        "id": "irJcKGrY_3Cs",
        "outputId": "bb6231bf-a9bf-4caf-9a04-083bd192481b"
      },
      "source": [
        "SEED = 100\r\n",
        "categories = [1,2,3,4,5,6]\r\n",
        "\r\n",
        "data_path = '/content/gdrive/My Drive/squid/'\r\n",
        "squid = pd.read_excel(data_path+'Dataset-S1.xlsx')\r\n",
        "squid.shape"
      ],
      "execution_count": 8,
      "outputs": [
        {
          "output_type": "execute_result",
          "data": {
            "text/plain": [
              "(3983, 31)"
            ]
          },
          "metadata": {
            "tags": []
          },
          "execution_count": 8
        }
      ]
    },
    {
      "cell_type": "code",
      "metadata": {
        "colab": {
          "base_uri": "https://localhost:8080/"
        },
        "id": "jGnf9srJ_3E_",
        "outputId": "9d49a33c-74c9-47c7-a498-4aaefcacee48"
      },
      "source": [
        "X, Y = squid.drop(['Category'], axis=1), squid.Category\r\n",
        "xtrain_full, xtest, ytrain_full, ytest = \\\r\n",
        "  train_test_split(X, Y, test_size=0.2, random_state=SEED, stratify=Y)\r\n",
        "xtrain, xval, ytrain, yval = \\\r\n",
        "  train_test_split(xtrain_full, ytrain_full, test_size=0.15, random_state=SEED, stratify=ytrain_full)\r\n",
        "print(f'Shape: Training {xtrain.shape[0]}, Validation {xval.shape[0]}, Test {xtest.shape[0]}')"
      ],
      "execution_count": 9,
      "outputs": [
        {
          "output_type": "stream",
          "text": [
            "Shape: Training 2708, Validation 478, Test 797\n"
          ],
          "name": "stdout"
        }
      ]
    },
    {
      "cell_type": "code",
      "metadata": {
        "id": "zqGNtDLH_3Rk",
        "colab": {
          "base_uri": "https://localhost:8080/"
        },
        "outputId": "385cb39d-b940-4169-bb4f-c2f4671ef725"
      },
      "source": [
        "def get_avg(df):\r\n",
        "  df['input_avg'] = df[input_col_list].mean(axis=1)\r\n",
        "  df['lbs_avg'] = df[lbs_col_list].mean(axis=1)\r\n",
        "\r\n",
        "def get_col_list(start=1, stop=11, verbal=False):\r\n",
        "  res = []\r\n",
        "  for i in range(start,stop):\r\n",
        "    s = 'Input' \r\n",
        "    if i < 10:\r\n",
        "      s += '0'\r\n",
        "    s += str(i)\r\n",
        "    res.append(s)\r\n",
        "  if verbal:\r\n",
        "    print(res)\r\n",
        "  return res\r\n",
        "\r\n",
        "input_col_list = get_col_list(verbal=False)\r\n",
        "lbs_col_list = get_col_list(1,2)\r\n",
        "get_avg(xtrain)\r\n",
        "get_avg(xval)\r\n",
        "get_avg(xtest)\r\n",
        "agg_list = ['Locus_Tag','input_avg','lbs_avg','Squid01_1','Squid02_1','Squid03_1','Squid04_1','Squid05_1','Squid06_1']\r\n",
        "xtrain_input_avg = xtrain[agg_list].copy()\r\n",
        "xval_input_avg = xval[agg_list].copy()\r\n",
        "xtest_input_avg = xtest[agg_list].copy()"
      ],
      "execution_count": 15,
      "outputs": [
        {
          "output_type": "stream",
          "text": [
            "/usr/local/lib/python3.7/dist-packages/ipykernel_launcher.py:2: SettingWithCopyWarning: \n",
            "A value is trying to be set on a copy of a slice from a DataFrame.\n",
            "Try using .loc[row_indexer,col_indexer] = value instead\n",
            "\n",
            "See the caveats in the documentation: https://pandas.pydata.org/pandas-docs/stable/user_guide/indexing.html#returning-a-view-versus-a-copy\n",
            "  \n",
            "/usr/local/lib/python3.7/dist-packages/ipykernel_launcher.py:3: SettingWithCopyWarning: \n",
            "A value is trying to be set on a copy of a slice from a DataFrame.\n",
            "Try using .loc[row_indexer,col_indexer] = value instead\n",
            "\n",
            "See the caveats in the documentation: https://pandas.pydata.org/pandas-docs/stable/user_guide/indexing.html#returning-a-view-versus-a-copy\n",
            "  This is separate from the ipykernel package so we can avoid doing imports until\n"
          ],
          "name": "stderr"
        }
      ]
    },
    {
      "cell_type": "code",
      "metadata": {
        "id": "TCPZfYAEOmSu"
      },
      "source": [
        "numerate_cols = ['input_avg','lbs_avg','Squid01_1','Squid02_1','Squid03_1','Squid04_1','Squid05_1','Squid06_1']"
      ],
      "execution_count": 17,
      "outputs": []
    },
    {
      "cell_type": "code",
      "metadata": {
        "id": "8DtbXT1V__3k"
      },
      "source": [
        "def phenographInfo(arr):\r\n",
        "    print(\"data size\", arr.shape)\r\n",
        "    print(\"different clusters and their sizes\", np.unique(arr, return_counts=True))\r\n",
        "\r\n",
        "def getConfMat(label, community):\r\n",
        "    print(\"The AMI score is\", np.round(adjusted_mutual_info_score(label, community),3))\r\n",
        "    conf_mat = pd.crosstab(label, community)\r\n",
        "    conf_mat = conf_mat.div(conf_mat.sum(axis=1), axis=0)\r\n",
        "    return conf_mat\r\n",
        "\r\n",
        "def plotConfMat(conf_mat, figsize=(8,6), title=\"\", fontsize=20, xlabel=\"Cluster\"):\r\n",
        "    f, ax = plt.subplots(figsize=figsize)\r\n",
        "    sns.heatmap(conf_mat, ax=ax, annot=True, cbar=False, \\\r\n",
        "            cmap=sns.diverging_palette(240,10,as_cmap=True), \\\r\n",
        "            fmt='.1%', vmax=1)\r\n",
        "    cbar = ax.figure.colorbar(ax.collections[0])\r\n",
        "    cbar.set_ticks([0, .25, .5, 0.75, 1.])\r\n",
        "    cbar.set_ticklabels(['0%', '25%', '50%', '75%', '100%'])\r\n",
        "    ax.set_title(title, fontsize=fontsize)\r\n",
        "    ax.set_xlabel(xlabel)"
      ],
      "execution_count": 11,
      "outputs": []
    },
    {
      "cell_type": "code",
      "metadata": {
        "colab": {
          "base_uri": "https://localhost:8080/",
          "height": 110
        },
        "id": "F8atQ09fA0dp",
        "outputId": "6a3dc1cd-fbb3-4638-95ff-e5111b6516bd"
      },
      "source": [
        "xval_input_avg.head(2)"
      ],
      "execution_count": 16,
      "outputs": [
        {
          "output_type": "execute_result",
          "data": {
            "text/html": [
              "<div>\n",
              "<style scoped>\n",
              "    .dataframe tbody tr th:only-of-type {\n",
              "        vertical-align: middle;\n",
              "    }\n",
              "\n",
              "    .dataframe tbody tr th {\n",
              "        vertical-align: top;\n",
              "    }\n",
              "\n",
              "    .dataframe thead th {\n",
              "        text-align: right;\n",
              "    }\n",
              "</style>\n",
              "<table border=\"1\" class=\"dataframe\">\n",
              "  <thead>\n",
              "    <tr style=\"text-align: right;\">\n",
              "      <th></th>\n",
              "      <th>Locus_Tag</th>\n",
              "      <th>input_avg</th>\n",
              "      <th>lbs_avg</th>\n",
              "      <th>Squid01_1</th>\n",
              "      <th>Squid02_1</th>\n",
              "      <th>Squid03_1</th>\n",
              "      <th>Squid04_1</th>\n",
              "      <th>Squid05_1</th>\n",
              "      <th>Squid06_1</th>\n",
              "    </tr>\n",
              "  </thead>\n",
              "  <tbody>\n",
              "    <tr>\n",
              "      <th>767</th>\n",
              "      <td>VF_0735</td>\n",
              "      <td>115.068874</td>\n",
              "      <td>118.875588</td>\n",
              "      <td>2.290694</td>\n",
              "      <td>196.867837</td>\n",
              "      <td>540.627558</td>\n",
              "      <td>74.094922</td>\n",
              "      <td>1747.669853</td>\n",
              "      <td>111.936416</td>\n",
              "    </tr>\n",
              "    <tr>\n",
              "      <th>3340</th>\n",
              "      <td>VF_A0595</td>\n",
              "      <td>0.048155</td>\n",
              "      <td>0.000000</td>\n",
              "      <td>0.000000</td>\n",
              "      <td>0.000000</td>\n",
              "      <td>0.332438</td>\n",
              "      <td>0.000000</td>\n",
              "      <td>0.000000</td>\n",
              "      <td>0.000000</td>\n",
              "    </tr>\n",
              "  </tbody>\n",
              "</table>\n",
              "</div>"
            ],
            "text/plain": [
              "     Locus_Tag   input_avg     lbs_avg  ...  Squid04_1    Squid05_1   Squid06_1\n",
              "767    VF_0735  115.068874  118.875588  ...  74.094922  1747.669853  111.936416\n",
              "3340  VF_A0595    0.048155    0.000000  ...   0.000000     0.000000    0.000000\n",
              "\n",
              "[2 rows x 9 columns]"
            ]
          },
          "metadata": {
            "tags": []
          },
          "execution_count": 16
        }
      ]
    },
    {
      "cell_type": "code",
      "metadata": {
        "colab": {
          "base_uri": "https://localhost:8080/"
        },
        "id": "J8yT9gPL__50",
        "outputId": "f21b71a2-002f-4c1d-f668-ebbd713e221c"
      },
      "source": [
        "pheno_communities_avg, graph_avg, Q_avg = phenograph.cluster(data=xtrain_input_avg[numerate_cols], k=30, primary_metric='euclidean', seed=SEED)\r\n",
        "phenographInfo(pheno_communities_avg)"
      ],
      "execution_count": 20,
      "outputs": [
        {
          "output_type": "stream",
          "text": [
            "Finding 30 nearest neighbors using minkowski metric and 'auto' algorithm\n",
            "Neighbors computed in 0.11641883850097656 seconds\n",
            "Jaccard graph constructed in 1.234983205795288 seconds\n",
            "Wrote graph to binary file in 0.28873324394226074 seconds\n",
            "Running Louvain modularity optimization\n",
            "After 1 runs, maximum modularity is Q = 0.86787\n",
            "Louvain completed 21 runs in 0.8806607723236084 seconds\n",
            "Sorting communities by size, please wait ...\n",
            "PhenoGraph completed in 2.6639692783355713 seconds\n",
            "data size (2708,)\n",
            "different clusters and their sizes (array([ 0,  1,  2,  3,  4,  5,  6,  7,  8,  9, 10, 11, 12, 13, 14, 15, 16]), array([264, 250, 227, 221, 216, 208, 184, 173, 161, 136, 112, 111, 104,\n",
            "       101,  94,  74,  72]))\n"
          ],
          "name": "stdout"
        }
      ]
    },
    {
      "cell_type": "code",
      "metadata": {
        "colab": {
          "base_uri": "https://localhost:8080/",
          "height": 427
        },
        "id": "l2ndfdFO__76",
        "outputId": "de0b2f6a-5c20-4302-f5e9-7590b0967b49"
      },
      "source": [
        "conf_mat_avg = getConfMat(ytrain, pheno_communities_avg)\r\n",
        "plotConfMat(conf_mat_avg, figsize=(12,6), title=\"Confusion Matrix: Phenograph on squid_avg\")"
      ],
      "execution_count": 21,
      "outputs": [
        {
          "output_type": "stream",
          "text": [
            "The AMI score is 0.352\n"
          ],
          "name": "stdout"
        },
        {
          "output_type": "display_data",
          "data": {
            "image/png": "[encoded data removed]",
            "text/plain": [
              "<Figure size 864x432 with 2 Axes>"
            ]
          },
          "metadata": {
            "tags": [],
            "needs_background": "light"
          }
        }
      ]
    },
    {
      "cell_type": "code",
      "metadata": {
        "colab": {
          "base_uri": "https://localhost:8080/"
        },
        "id": "3DMUBmxzQ0jy",
        "outputId": "a883fe60-e31e-44eb-dd8d-01d55ed43848"
      },
      "source": [
        "pheno_communities_avg"
      ],
      "execution_count": 30,
      "outputs": [
        {
          "output_type": "execute_result",
          "data": {
            "text/plain": [
              "array([3, 5, 7, ..., 8, 3, 7])"
            ]
          },
          "metadata": {
            "tags": []
          },
          "execution_count": 30
        }
      ]
    },
    {
      "cell_type": "code",
      "metadata": {
        "id": "RDV5luB9Nqsm"
      },
      "source": [
        "xtrain_input_avg['pheno_community'] = pheno_communities_avg"
      ],
      "execution_count": 24,
      "outputs": []
    },
    {
      "cell_type": "code",
      "metadata": {
        "colab": {
          "base_uri": "https://localhost:8080/",
          "height": 427
        },
        "id": "PU2mymUGCxYG",
        "outputId": "0a98a9a1-4aa5-4726-de4a-13754992bf60"
      },
      "source": [
        "gmm = GaussianMixture(n_components=6, n_init=3, random_state=SEED)\r\n",
        "gmm.fit(xtrain_input_avg[numerate_cols])\r\n",
        "gmm_communities_avg = gmm.predict(xtrain_input_avg[numerate_cols])\r\n",
        "conf_mat_gmm_avg = getConfMat(ytrain, gmm_communities_avg)\r\n",
        "plotConfMat(conf_mat_gmm_avg, figsize=(8,6), title=\"Confusion Matrix: GMM on squid_avg\")"
      ],
      "execution_count": 27,
      "outputs": [
        {
          "output_type": "stream",
          "text": [
            "The AMI score is 0.358\n"
          ],
          "name": "stdout"
        },
        {
          "output_type": "display_data",
          "data": {
            "image/png": "[encoded data removed]",
            "text/plain": [
              "<Figure size 576x432 with 2 Axes>"
            ]
          },
          "metadata": {
            "tags": [],
            "needs_background": "light"
          }
        }
      ]
    },
    {
      "cell_type": "code",
      "metadata": {
        "colab": {
          "base_uri": "https://localhost:8080/"
        },
        "id": "OJiEmSMTQs80",
        "outputId": "ca58bc87-0494-404f-8d02-913bdbe04769"
      },
      "source": [
        "gmm_communities_avg"
      ],
      "execution_count": 29,
      "outputs": [
        {
          "output_type": "execute_result",
          "data": {
            "text/plain": [
              "array([5, 4, 3, ..., 2, 4, 3])"
            ]
          },
          "metadata": {
            "tags": []
          },
          "execution_count": 29
        }
      ]
    },
    {
      "cell_type": "code",
      "metadata": {
        "colab": {
          "base_uri": "https://localhost:8080/",
          "height": 202
        },
        "id": "lYUjknBZQXVk",
        "outputId": "1f065269-dfdf-4aee-9ae1-c97a25236407"
      },
      "source": [
        "xtrain_input_avg['gmm_community'] = gmm_communities_avg\r\n",
        "xtrain_input_avg.head()"
      ],
      "execution_count": 31,
      "outputs": [
        {
          "output_type": "execute_result",
          "data": {
            "text/html": [
              "<div>\n",
              "<style scoped>\n",
              "    .dataframe tbody tr th:only-of-type {\n",
              "        vertical-align: middle;\n",
              "    }\n",
              "\n",
              "    .dataframe tbody tr th {\n",
              "        vertical-align: top;\n",
              "    }\n",
              "\n",
              "    .dataframe thead th {\n",
              "        text-align: right;\n",
              "    }\n",
              "</style>\n",
              "<table border=\"1\" class=\"dataframe\">\n",
              "  <thead>\n",
              "    <tr style=\"text-align: right;\">\n",
              "      <th></th>\n",
              "      <th>Locus_Tag</th>\n",
              "      <th>input_avg</th>\n",
              "      <th>lbs_avg</th>\n",
              "      <th>Squid01_1</th>\n",
              "      <th>Squid02_1</th>\n",
              "      <th>Squid03_1</th>\n",
              "      <th>Squid04_1</th>\n",
              "      <th>Squid05_1</th>\n",
              "      <th>Squid06_1</th>\n",
              "      <th>pheno_community</th>\n",
              "      <th>gmm_community</th>\n",
              "    </tr>\n",
              "  </thead>\n",
              "  <tbody>\n",
              "    <tr>\n",
              "      <th>1601</th>\n",
              "      <td>VF_1531</td>\n",
              "      <td>289.778293</td>\n",
              "      <td>300.349470</td>\n",
              "      <td>307.239338</td>\n",
              "      <td>0.763900</td>\n",
              "      <td>17.951661</td>\n",
              "      <td>0.678732</td>\n",
              "      <td>27.530611</td>\n",
              "      <td>13.929119</td>\n",
              "      <td>3</td>\n",
              "      <td>5</td>\n",
              "    </tr>\n",
              "    <tr>\n",
              "      <th>1412</th>\n",
              "      <td>VF_1354</td>\n",
              "      <td>238.813306</td>\n",
              "      <td>238.634756</td>\n",
              "      <td>17.466542</td>\n",
              "      <td>1587.819861</td>\n",
              "      <td>51.278586</td>\n",
              "      <td>1008.369672</td>\n",
              "      <td>36.770989</td>\n",
              "      <td>53.199166</td>\n",
              "      <td>5</td>\n",
              "      <td>4</td>\n",
              "    </tr>\n",
              "    <tr>\n",
              "      <th>529</th>\n",
              "      <td>VF_0514</td>\n",
              "      <td>120.086099</td>\n",
              "      <td>131.993363</td>\n",
              "      <td>19.375454</td>\n",
              "      <td>19.643132</td>\n",
              "      <td>478.461622</td>\n",
              "      <td>4.298637</td>\n",
              "      <td>790.671524</td>\n",
              "      <td>33.899784</td>\n",
              "      <td>7</td>\n",
              "      <td>3</td>\n",
              "    </tr>\n",
              "    <tr>\n",
              "      <th>1629</th>\n",
              "      <td>VF_1558</td>\n",
              "      <td>213.381174</td>\n",
              "      <td>208.796916</td>\n",
              "      <td>12.598817</td>\n",
              "      <td>13.641064</td>\n",
              "      <td>355.542613</td>\n",
              "      <td>8.031663</td>\n",
              "      <td>27.244826</td>\n",
              "      <td>48.332366</td>\n",
              "      <td>14</td>\n",
              "      <td>3</td>\n",
              "    </tr>\n",
              "    <tr>\n",
              "      <th>3624</th>\n",
              "      <td>VF_A0876</td>\n",
              "      <td>17.992808</td>\n",
              "      <td>22.837163</td>\n",
              "      <td>2.672476</td>\n",
              "      <td>0.000000</td>\n",
              "      <td>0.914205</td>\n",
              "      <td>1.470586</td>\n",
              "      <td>3.619942</td>\n",
              "      <td>6.209366</td>\n",
              "      <td>2</td>\n",
              "      <td>2</td>\n",
              "    </tr>\n",
              "  </tbody>\n",
              "</table>\n",
              "</div>"
            ],
            "text/plain": [
              "     Locus_Tag   input_avg  ...  pheno_community  gmm_community\n",
              "1601   VF_1531  289.778293  ...                3              5\n",
              "1412   VF_1354  238.813306  ...                5              4\n",
              "529    VF_0514  120.086099  ...                7              3\n",
              "1629   VF_1558  213.381174  ...               14              3\n",
              "3624  VF_A0876   17.992808  ...                2              2\n",
              "\n",
              "[5 rows x 11 columns]"
            ]
          },
          "metadata": {
            "tags": []
          },
          "execution_count": 31
        }
      ]
    },
    {
      "cell_type": "code",
      "metadata": {
        "colab": {
          "base_uri": "https://localhost:8080/",
          "height": 220
        },
        "id": "K0qJOBt0Q30F",
        "outputId": "0d5809f7-168f-44fc-cfd0-9de4c36cd862"
      },
      "source": [
        "df_tmp = xtrain_input_avg[(xtrain_input_avg['pheno_community']==6) & (xtrain_input_avg['gmm_community']==0)]\r\n",
        "print(f'The size of the intersection is {df_tmp.shape[0]}')\r\n",
        "df_tmp.head()"
      ],
      "execution_count": 35,
      "outputs": [
        {
          "output_type": "stream",
          "text": [
            "The size of the intersection is 183\n"
          ],
          "name": "stdout"
        },
        {
          "output_type": "execute_result",
          "data": {
            "text/html": [
              "<div>\n",
              "<style scoped>\n",
              "    .dataframe tbody tr th:only-of-type {\n",
              "        vertical-align: middle;\n",
              "    }\n",
              "\n",
              "    .dataframe tbody tr th {\n",
              "        vertical-align: top;\n",
              "    }\n",
              "\n",
              "    .dataframe thead th {\n",
              "        text-align: right;\n",
              "    }\n",
              "</style>\n",
              "<table border=\"1\" class=\"dataframe\">\n",
              "  <thead>\n",
              "    <tr style=\"text-align: right;\">\n",
              "      <th></th>\n",
              "      <th>Locus_Tag</th>\n",
              "      <th>input_avg</th>\n",
              "      <th>lbs_avg</th>\n",
              "      <th>Squid01_1</th>\n",
              "      <th>Squid02_1</th>\n",
              "      <th>Squid03_1</th>\n",
              "      <th>Squid04_1</th>\n",
              "      <th>Squid05_1</th>\n",
              "      <th>Squid06_1</th>\n",
              "      <th>pheno_community</th>\n",
              "      <th>gmm_community</th>\n",
              "    </tr>\n",
              "  </thead>\n",
              "  <tbody>\n",
              "    <tr>\n",
              "      <th>804</th>\n",
              "      <td>VF_T0039</td>\n",
              "      <td>0.0</td>\n",
              "      <td>0.0</td>\n",
              "      <td>0.0</td>\n",
              "      <td>0.0</td>\n",
              "      <td>0.0</td>\n",
              "      <td>0.0</td>\n",
              "      <td>0.0</td>\n",
              "      <td>0.0</td>\n",
              "      <td>6</td>\n",
              "      <td>0</td>\n",
              "    </tr>\n",
              "    <tr>\n",
              "      <th>2595</th>\n",
              "      <td>VF_2658</td>\n",
              "      <td>0.0</td>\n",
              "      <td>0.0</td>\n",
              "      <td>0.0</td>\n",
              "      <td>0.0</td>\n",
              "      <td>0.0</td>\n",
              "      <td>0.0</td>\n",
              "      <td>0.0</td>\n",
              "      <td>0.0</td>\n",
              "      <td>6</td>\n",
              "      <td>0</td>\n",
              "    </tr>\n",
              "    <tr>\n",
              "      <th>127</th>\n",
              "      <td>VF_0127</td>\n",
              "      <td>0.0</td>\n",
              "      <td>0.0</td>\n",
              "      <td>0.0</td>\n",
              "      <td>0.0</td>\n",
              "      <td>0.0</td>\n",
              "      <td>0.0</td>\n",
              "      <td>0.0</td>\n",
              "      <td>0.0</td>\n",
              "      <td>6</td>\n",
              "      <td>0</td>\n",
              "    </tr>\n",
              "    <tr>\n",
              "      <th>1226</th>\n",
              "      <td>VF_1169</td>\n",
              "      <td>0.0</td>\n",
              "      <td>0.0</td>\n",
              "      <td>0.0</td>\n",
              "      <td>0.0</td>\n",
              "      <td>0.0</td>\n",
              "      <td>0.0</td>\n",
              "      <td>0.0</td>\n",
              "      <td>0.0</td>\n",
              "      <td>6</td>\n",
              "      <td>0</td>\n",
              "    </tr>\n",
              "    <tr>\n",
              "      <th>3410</th>\n",
              "      <td>VF_A0664</td>\n",
              "      <td>0.0</td>\n",
              "      <td>0.0</td>\n",
              "      <td>0.0</td>\n",
              "      <td>0.0</td>\n",
              "      <td>0.0</td>\n",
              "      <td>0.0</td>\n",
              "      <td>0.0</td>\n",
              "      <td>0.0</td>\n",
              "      <td>6</td>\n",
              "      <td>0</td>\n",
              "    </tr>\n",
              "  </tbody>\n",
              "</table>\n",
              "</div>"
            ],
            "text/plain": [
              "     Locus_Tag  input_avg  lbs_avg  ...  Squid06_1  pheno_community  gmm_community\n",
              "804   VF_T0039        0.0      0.0  ...        0.0                6              0\n",
              "2595   VF_2658        0.0      0.0  ...        0.0                6              0\n",
              "127    VF_0127        0.0      0.0  ...        0.0                6              0\n",
              "1226   VF_1169        0.0      0.0  ...        0.0                6              0\n",
              "3410  VF_A0664        0.0      0.0  ...        0.0                6              0\n",
              "\n",
              "[5 rows x 11 columns]"
            ]
          },
          "metadata": {
            "tags": []
          },
          "execution_count": 35
        }
      ]
    },
    {
      "cell_type": "code",
      "metadata": {
        "colab": {
          "base_uri": "https://localhost:8080/",
          "height": 427
        },
        "id": "64EUViiwCxcA",
        "outputId": "1dc7418c-4ddc-426f-f7dc-6dd36e224c67"
      },
      "source": [
        "km = KMeans(n_clusters=6, random_state=SEED)\r\n",
        "km.fit(xtrain_input_avg)\r\n",
        "km_communities_avg = km.predict(xtrain_input_avg)\r\n",
        "conf_mat_km_avg = getConfMat(ytrain, km_communities_avg)\r\n",
        "plotConfMat(conf_mat_km_avg, figsize=(8,6), title=\"Confusion Matrix: Kmeans on squid_avg\")"
      ],
      "execution_count": null,
      "outputs": [
        {
          "output_type": "stream",
          "text": [
            "The AMI score is 0.097\n"
          ],
          "name": "stdout"
        },
        {
          "output_type": "display_data",
          "data": {
            "image/png": "[encoded data removed]",
            "text/plain": [
              "<Figure size 576x432 with 2 Axes>"
            ]
          },
          "metadata": {
            "tags": [],
            "needs_background": "light"
          }
        }
      ]
    },
    {
      "cell_type": "code",
      "metadata": {
        "id": "TW92WfpQCxeQ"
      },
      "source": [
        ""
      ],
      "execution_count": null,
      "outputs": []
    },
    {
      "cell_type": "code",
      "metadata": {
        "id": "QlcU-jql_3Th"
      },
      "source": [
        ""
      ],
      "execution_count": null,
      "outputs": []
    }
  ]
}
