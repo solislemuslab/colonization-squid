{
  "nbformat": 4,
  "nbformat_minor": 0,
  "metadata": {
    "colab": {
      "name": "baseline.ipynb",
      "provenance": [],
      "collapsed_sections": [],
      "authorship_tag": "ABX9TyMtxP76Gm7BTwBqluPq54KZ",
      "include_colab_link": true
    },
    "kernelspec": {
      "name": "python3",
      "display_name": "Python 3"
    }
  },
  "cells": [
    {
      "cell_type": "markdown",
      "metadata": {
        "id": "view-in-github",
        "colab_type": "text"
      },
      "source": [
        "<a href=\"https://colab.research.google.com/github/solislemuslab/colonization-squid/blob/master/baseline.ipynb\" target=\"_parent\"><img src=\"https://colab.research.google.com/assets/colab-badge.svg\" alt=\"Open In Colab\"/></a>"
      ]
    },
    {
      "cell_type": "code",
      "metadata": {
        "colab": {
          "base_uri": "https://localhost:8080/"
        },
        "id": "dyhE6M1zrbI8",
        "outputId": "036fdbc1-3661-455e-9df7-e971d11f24e7"
      },
      "source": [
        "# !pip install PyDrive\r\n",
        "from google.colab import drive\r\n",
        "drive.mount('/content/gdrive')"
      ],
      "execution_count": null,
      "outputs": [
        {
          "output_type": "stream",
          "text": [
            "Mounted at /content/gdrive\n"
          ],
          "name": "stdout"
        }
      ]
    },
    {
      "cell_type": "code",
      "metadata": {
        "id": "tgmljJtIrm9A"
      },
      "source": [
        "import numpy as np\r\n",
        "import pandas as pd\r\n",
        "import matplotlib.pyplot as plt\r\n",
        "import seaborn as sns\r\n",
        "%matplotlib inline"
      ],
      "execution_count": null,
      "outputs": []
    },
    {
      "cell_type": "code",
      "metadata": {
        "id": "WOBNvgXPrgz3"
      },
      "source": [
        "import sklearn\r\n",
        "from sklearn.model_selection import train_test_split\r\n",
        "# from sklearn.preprocessing import LabelEncoder\r\n",
        "from sklearn.dummy import DummyClassifier\r\n",
        "from sklearn.metrics import accuracy_score, f1_score, confusion_matrix, classification_report"
      ],
      "execution_count": null,
      "outputs": []
    },
    {
      "cell_type": "code",
      "metadata": {
        "colab": {
          "base_uri": "https://localhost:8080/"
        },
        "id": "SqYm9Sm3rraa",
        "outputId": "59a662e2-f475-4495-a2d1-11083e32b386"
      },
      "source": [
        "data_path = '/content/gdrive/My Drive/squid/'\r\n",
        "squid = pd.read_excel(data_path+'Dataset-S1.xlsx')\r\n",
        "squid.shape"
      ],
      "execution_count": null,
      "outputs": [
        {
          "output_type": "execute_result",
          "data": {
            "text/plain": [
              "(3983, 31)"
            ]
          },
          "metadata": {
            "tags": []
          },
          "execution_count": 4
        }
      ]
    },
    {
      "cell_type": "code",
      "metadata": {
        "id": "HcVgiicJeIj3"
      },
      "source": [
        "SEED = 100\r\n",
        "categories = [1,2,3,4,5,6]"
      ],
      "execution_count": null,
      "outputs": []
    },
    {
      "cell_type": "code",
      "metadata": {
        "id": "QVdY8A2ivNfm",
        "colab": {
          "base_uri": "https://localhost:8080/"
        },
        "outputId": "87b85411-b660-4c0b-cfa4-cb40df184379"
      },
      "source": [
        "X, Y = squid.drop(['Category'], axis=1), squid.Category\r\n",
        "xtrain_full, xtest, ytrain_full, ytest = \\\r\n",
        "  train_test_split(X, Y, test_size=0.2, random_state=SEED, stratify=Y)\r\n",
        "xtrain, xval, ytrain, yval = \\\r\n",
        "  train_test_split(xtrain_full, ytrain_full, test_size=0.15, random_state=SEED, stratify=ytrain_full)\r\n",
        "print(f'Shape: Training {xtrain.shape[0]}, Validation {xval.shape[0]}, Test {xtest.shape[0]}')"
      ],
      "execution_count": null,
      "outputs": [
        {
          "output_type": "stream",
          "text": [
            "Shape: Training 2708, Validation 478, Test 797\n"
          ],
          "name": "stdout"
        }
      ]
    },
    {
      "cell_type": "code",
      "metadata": {
        "id": "brxLPgEOgYXi"
      },
      "source": [
        "def getMetrics(label, pred):\r\n",
        "  acc = accuracy_score(label, pred)\r\n",
        "  # recall = recall_score(label, pred)\r\n",
        "  f1 = f1_score(label, pred, average=\"weighted\")\r\n",
        "  confusion_mat = pd.DataFrame(confusion_matrix(label, pred), columns=categories, index=categories)\r\n",
        "\r\n",
        "  print(f'Prediction Result:\\nacc:{np.round(acc*100, 3)}%, f1 score:{np.round(f1,4)}.')\r\n",
        "  print(confusion_mat)\r\n",
        "  return acc, f1, confusion_matrix"
      ],
      "execution_count": null,
      "outputs": []
    },
    {
      "cell_type": "code",
      "metadata": {
        "id": "WrE_M-eEg08g"
      },
      "source": [
        ""
      ],
      "execution_count": null,
      "outputs": []
    },
    {
      "cell_type": "markdown",
      "metadata": {
        "id": "wFfszuETvWi-"
      },
      "source": [
        "# Dummy Classifier"
      ]
    },
    {
      "cell_type": "code",
      "metadata": {
        "id": "s75HX4hyuXTa"
      },
      "source": [
        "dummy_clf = DummyClassifier(strategy='most_frequent').fit(xtrain, ytrain)\r\n",
        "dummy_pred_train = dummy_clf.predict(xtrain)\r\n",
        "dummy_pred_val = dummy_clf.predict(xval)\r\n",
        "dummy_pred_test = dummy_clf.predict(xtest)"
      ],
      "execution_count": null,
      "outputs": []
    },
    {
      "cell_type": "code",
      "metadata": {
        "id": "pLEaKoj7uXV4",
        "colab": {
          "base_uri": "https://localhost:8080/"
        },
        "outputId": "d7811752-1c69-49e9-d2db-536ccffb2ee6"
      },
      "source": [
        "_, _, dummy_confusion_train = getMetrics(ytrain, dummy_pred_train)"
      ],
      "execution_count": null,
      "outputs": [
        {
          "output_type": "stream",
          "text": [
            "Prediction Result:\n",
            "acc:48.006%, f1 score:0.3114.\n",
            "   1  2  3  4     5  6\n",
            "1  0  0  0  0   106  0\n",
            "2  0  0  0  0   309  0\n",
            "3  0  0  0  0    78  0\n",
            "4  0  0  0  0   657  0\n",
            "5  0  0  0  0  1300  0\n",
            "6  0  0  0  0   258  0\n"
          ],
          "name": "stdout"
        }
      ]
    },
    {
      "cell_type": "code",
      "metadata": {
        "id": "iv6Ab9yiuXXz",
        "colab": {
          "base_uri": "https://localhost:8080/"
        },
        "outputId": "039cf590-3a8c-45d8-ebff-dafa7fdda843"
      },
      "source": [
        "_, _, dummy_confusion_val = getMetrics(yval, dummy_pred_val)"
      ],
      "execution_count": null,
      "outputs": [
        {
          "output_type": "stream",
          "text": [
            "Prediction Result:\n",
            "acc:47.908%, f1 score:0.3104.\n",
            "   1  2  3  4    5  6\n",
            "1  0  0  0  0   18  0\n",
            "2  0  0  0  0   55  0\n",
            "3  0  0  0  0   14  0\n",
            "4  0  0  0  0  116  0\n",
            "5  0  0  0  0  229  0\n",
            "6  0  0  0  0   46  0\n"
          ],
          "name": "stdout"
        }
      ]
    },
    {
      "cell_type": "code",
      "metadata": {
        "colab": {
          "base_uri": "https://localhost:8080/"
        },
        "id": "3AnCyVBAkKO6",
        "outputId": "699e90ea-6bb0-482c-8277-a327badd692c"
      },
      "source": [
        "_, _, dummy_confusion_test = getMetrics(ytest, dummy_pred_test)"
      ],
      "execution_count": null,
      "outputs": [
        {
          "output_type": "stream",
          "text": [
            "Prediction Result:\n",
            "acc:47.93%, f1 score:0.3106.\n",
            "   1  2  3  4    5  6\n",
            "1  0  0  0  0   31  0\n",
            "2  0  0  0  0   91  0\n",
            "3  0  0  0  0   23  0\n",
            "4  0  0  0  0  194  0\n",
            "5  0  0  0  0  382  0\n",
            "6  0  0  0  0   76  0\n"
          ],
          "name": "stdout"
        }
      ]
    },
    {
      "cell_type": "markdown",
      "metadata": {
        "id": "iY2H9TPNkYb-"
      },
      "source": [
        "# Baseline"
      ]
    },
    {
      "cell_type": "code",
      "metadata": {
        "id": "SRGbiDZ9kKR7"
      },
      "source": [
        "from sklearn.ensemble import RandomForestClassifier"
      ],
      "execution_count": null,
      "outputs": []
    },
    {
      "cell_type": "code",
      "metadata": {
        "id": "p6KZPPNfkgID"
      },
      "source": [
        "drop_list = ['ID','Chromosome','Coordinate','Locus_Tag','Gene','Annotation']\r\n",
        "xtrain_nums = xtrain.drop(drop_list, axis=1)\r\n",
        "xval_nums = xval.drop(drop_list, axis=1)\r\n",
        "xtest_nums = xtest.drop(drop_list, axis=1)"
      ],
      "execution_count": null,
      "outputs": []
    },
    {
      "cell_type": "code",
      "metadata": {
        "id": "FagFILEJkKTu"
      },
      "source": [
        "rf_clf = RandomForestClassifier(random_state=SEED).fit(xtrain_nums, ytrain)\r\n",
        "rf_pred_train = rf_clf.predict(xtrain_nums)\r\n",
        "rf_pred_val = rf_clf.predict(xval_nums)\r\n",
        "rf_pred_test = rf_clf.predict(xtest_nums)"
      ],
      "execution_count": null,
      "outputs": []
    },
    {
      "cell_type": "code",
      "metadata": {
        "colab": {
          "base_uri": "https://localhost:8080/"
        },
        "id": "jWwMK6gApeGp",
        "outputId": "681ec569-76a6-4972-9c0e-da638be0a807"
      },
      "source": [
        "_, _, rf_confusion_train = getMetrics(ytrain, rf_pred_train)"
      ],
      "execution_count": null,
      "outputs": [
        {
          "output_type": "stream",
          "text": [
            "Prediction Result:\n",
            "acc:97.637%, f1 score:0.9779.\n",
            "     1    2   3    4     5    6\n",
            "1  106    0   0    0     0    0\n",
            "2   56  253   0    0     0    0\n",
            "3    0    1  77    0     0    0\n",
            "4    6    1   0  650     0    0\n",
            "5    0    0   0    0  1300    0\n",
            "6    0    0   0    0     0  258\n"
          ],
          "name": "stdout"
        }
      ]
    },
    {
      "cell_type": "code",
      "metadata": {
        "colab": {
          "base_uri": "https://localhost:8080/"
        },
        "id": "IiYff7mxpeJM",
        "outputId": "69df8789-1a8f-4aef-b714-3d574224aed3"
      },
      "source": [
        "_, _, rf_confusion_val = getMetrics(yval, rf_pred_val)"
      ],
      "execution_count": null,
      "outputs": [
        {
          "output_type": "stream",
          "text": [
            "Prediction Result:\n",
            "acc:88.703%, f1 score:0.8849.\n",
            "    1   2   3    4    5   6\n",
            "1  15   1   1    1    0   0\n",
            "2   9  39   4    2    1   0\n",
            "3   0   2  10    2    0   0\n",
            "4   1   2   3  108    1   1\n",
            "5   0   0   0    4  224   1\n",
            "6   0   0   0    3   15  28\n"
          ],
          "name": "stdout"
        }
      ]
    },
    {
      "cell_type": "code",
      "metadata": {
        "colab": {
          "base_uri": "https://localhost:8080/"
        },
        "id": "PEEuUeH9peOu",
        "outputId": "d6b149f6-94c2-4917-c987-ebc017e24eee"
      },
      "source": [
        "_, _, _ = getMetrics(ytest, rf_pred_test)"
      ],
      "execution_count": null,
      "outputs": [
        {
          "output_type": "stream",
          "text": [
            "Prediction Result:\n",
            "acc:91.217%, f1 score:0.9108.\n",
            "    1   2   3    4    5   6\n",
            "1  27   0   1    2    1   0\n",
            "2  11  72   3    3    1   1\n",
            "3   0   5  12    6    0   0\n",
            "4   6   6   1  180    0   1\n",
            "5   0   0   0    2  379   1\n",
            "6   0   0   0    2   17  57\n"
          ],
          "name": "stdout"
        }
      ]
    }
  ]
}
